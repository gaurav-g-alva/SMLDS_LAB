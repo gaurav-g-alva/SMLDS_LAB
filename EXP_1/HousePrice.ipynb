{
 "cells": [
  {
   "cell_type": "code",
   "execution_count": null,
   "id": "badb832f",
   "metadata": {
    "vscode": {
     "languageId": "plaintext"
    }
   },
   "outputs": [],
   "source": [
    "import numpy as np\n",
    "import matplotlib.pyplot as plt\n",
    "import seaborn as sns\n",
    "import pandas as pd"
   ]
  },
  {
   "cell_type": "code",
   "execution_count": null,
   "id": "15ab4fc0",
   "metadata": {
    "vscode": {
     "languageId": "plaintext"
    }
   },
   "outputs": [],
   "source": [
    "file_path=input(\"Enter the Data Set : \")\n",
    "#file_path=\"/home/ailab/GA/exp1/house_prices_india.csv\"\n",
    "try:\n",
    "    df=pd.read_csv(file_path)\n",
    "    print(\"\\n~~ Dataset loaded successfully~~\")\n",
    "    print(df.head())\n",
    "    if df.shape[1]>1:\n",
    "        print(\"\\n available colums\",list(df.columns))\n",
    "        column_name=input(\"enter the column name containing house prices:\")\n",
    "    else:\n",
    "        column_name=df.columns[0]\n",
    "    house_prices=df[column_name].dropna().values\n",
    "    house_prices=house_prices[house_prices>0]\n",
    "    print(f\"\\n total no of valid house prieces {len(house_prices)}\")\n",
    "    q1=np.percentile(house_prices,25)\n",
    "    q3=np.percentile(house_prices,75)\n",
    "    print(f\"\\nThe 25th percentile(Q1) of hosue price is:${q1:,.2f}\")\n",
    "    print(f\"The 75th percentile (Q3) of house price is:${q3:,.2f}\\n\")\n",
    "    iqr=q3-q1\n",
    "    print(f\"the interquartile (IQR) of house price is ${iqr:,.2f}\\n\")\n",
    "except FileNotFoundError:\n",
    "    print(\"File not found.please check the fiel path\")\n",
    "except pd.errors.EmptyDataError:\n",
    "    print(\"File is empty or corrupted\")\n",
    "except Exception as e:\n",
    "    print(f\"An error occured :{e}\")\n",
    "plt.figure(figsize=(10,6))\n",
    "sns.boxplot(y=house_prices,color='skyblue')\n",
    "plt.hlines(q1,xmin=-0.4,xmax=0.4,colors='red',linestyles='dashed',label=f'Q1(${q1:,.0f})')\n",
    "plt.hlines(q3,xmin=-0.4,xmax=0.4,colors='green',linestyles='dashed',label=f'Q3(${q3:,.0f})')\n",
    "plt.text(-0.45,q1,'Q1',va='center',ha='right',color='red',fontsize=12)\n",
    "plt.text(-0.45,q3,'Q3',va='center',ha='right',color='green',fontsize=12)\n",
    "plt.title(\"box plot of house price with q1 and q3\")\n",
    "plt.ylabel(\"House price ($)\")\n",
    "plt.grid(axis='y',linestyle=\"--\",alpha=0.7)\n",
    "plt.legend()\n",
    "plt.show()\n",
    "plt.figure(figsize=(12,7))\n",
    "sns.histplot(house_prices,kde=True,color='purple',bins=30)\n",
    "plt.axvline(q1,color='red',linestyle='dashed',linewidth=2,label=f'Q1:${q1:.0f}')\n",
    "plt.axvline(q3,color='green',linestyle='dashed',linewidth=2,label=f'Q3:${q3:.0f}')\n",
    "plt.title(\"histogram of house price with q1 and q3\")\n",
    "plt.xlabel(\"House price ($)\")\n",
    "plt.ylabel('frequency')\n",
    "plt.legend()\n",
    "plt.grid(axis='y',linestyle=\"--\",alpha=0.7)\n",
    "plt.show()"
   ]
  }
 ],
 "metadata": {
  "language_info": {
   "name": "python"
  }
 },
 "nbformat": 4,
 "nbformat_minor": 5
}
